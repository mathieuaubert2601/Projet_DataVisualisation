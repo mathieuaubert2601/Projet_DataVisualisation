{
 "cells": [
  {
   "cell_type": "markdown",
   "metadata": {},
   "source": [
    "# Content of this Notebook\n",
    "\n",
    "The objective of this following notebook is to better understand how this project works and how to use properly.\n",
    "\n",
    "## I. The team : \n",
    "\n",
    "DATA & IA group 3\n",
    "- Mathieu Aubert\n",
    "- Pierre-Louis Hardelin \n",
    "- Arthur Olivier \n",
    "- Aurélien Verdier \n",
    "\n",
    "git : https://github.com/mathieuaubert2601/Projet_DataVisualisation.git (csv files are too big to be one github)\n",
    "## II. The different files\n",
    "### 1. Notebook files \n",
    "- preprocessing : this notebook contains all the necessary function in order to prepare properly a CSV file for our study, like changing variable type, deleting columns, creating new ones, ...\n",
    "- interactive_notebook : this notebook contains all the function to analyse our data and produce relevant indicators\n",
    "- Case_1 to Case_4 : these notebooks contain four study cases we used to show the good execution of our project with one investor profile case\n",
    "\n",
    "### 2. CSV files \n",
    "- full.csv and full2023.csv : these two files contain raw data from data.gouv about property value from 2023 for the second file to june 2024 for the first file, these two files are the first input of our project\n",
    "\n",
    "### 3. Map files \n",
    "- regions : theses three different files contain all the necessary informations to show the map for users\n",
    "\n",
    "### 4. PDF files \n",
    "- notice-descriptive-du-fichier-dvf : this file contains all the necessary explications for the full and full2023 csv files\n",
    "- Case_1 to Case_4 : These files are a export of Case_1 to Case_4 to keep a save of our work \n",
    "\n",
    "## III. How to use this project \n",
    "### 1. Prepare your data \n",
    "First of all you need to retrieve your csv file from https://www.data.gouv.fr/fr/datasets/demandes-de-valeurs-foncieres-geolocalisees/ (full one), then you put your path file in the preprocessing notebook, and at the end of this notebook you put the name you want for your output file. After running this notebook, you will have a new CSV file with your data cleaned and prepared for the study.\n",
    "\n",
    "### 2. Analyse your data \n",
    "In our case, we used 2 csv files for our analysis, one for 2023 and another for 2024, which is why we concatenated them at the beginning of the interactive workbook. You can change this cell if you want to do the same thing or not. Next, you need to run all the cells. Finally, you can choose the filters and functions you want to analyse in the last cell of this notebook. Note that selecting no filters is equivalent to selecting all the data.\n"
   ]
  }
 ],
 "metadata": {
  "language_info": {
   "name": "python"
  }
 },
 "nbformat": 4,
 "nbformat_minor": 2
}
