{
 "cells": [
  {
   "cell_type": "markdown",
   "metadata": {},
   "source": [
    "### I. Library import \n"
   ]
  },
  {
   "cell_type": "code",
   "execution_count": 184,
   "metadata": {},
   "outputs": [],
   "source": [
    "import ipywidgets as widgets\n",
    "from ipywidgets import interact, interactive,HBox, VBox\n",
    "import numpy as np\n",
    "import matplotlib.pyplot as plt\n",
    "import pandas as pd"
   ]
  },
  {
   "cell_type": "code",
   "execution_count": 185,
   "metadata": {},
   "outputs": [],
   "source": [
    "data = pd.read_csv(\"data.csv\",low_memory=False)"
   ]
  },
  {
   "cell_type": "code",
   "execution_count": 186,
   "metadata": {},
   "outputs": [
    {
     "name": "stdout",
     "output_type": "stream",
     "text": [
      "<class 'pandas.core.frame.DataFrame'>\n",
      "RangeIndex: 459729 entries, 0 to 459728\n",
      "Data columns (total 10 columns):\n",
      " #   Column                     Non-Null Count   Dtype  \n",
      "---  ------                     --------------   -----  \n",
      " 0   date_mutation              459729 non-null  object \n",
      " 1   nature_mutation            459729 non-null  object \n",
      " 2   valeur_fonciere            459729 non-null  float64\n",
      " 3   code_commune               459729 non-null  object \n",
      " 4   code_departement           459729 non-null  object \n",
      " 5   id_parcelle                459729 non-null  object \n",
      " 6   nombre_lots                459729 non-null  int64  \n",
      " 7   code_type_local            459729 non-null  float64\n",
      " 8   nombre_pieces_principales  459729 non-null  float64\n",
      " 9   surface_terrain            459729 non-null  float64\n",
      "dtypes: float64(4), int64(1), object(5)\n",
      "memory usage: 35.1+ MB\n"
     ]
    }
   ],
   "source": [
    "data.info()"
   ]
  },
  {
   "cell_type": "markdown",
   "metadata": {},
   "source": [
    "### II. Création des fonctions"
   ]
  },
  {
   "cell_type": "code",
   "execution_count": 187,
   "metadata": {},
   "outputs": [],
   "source": [
    "def afficher_prix_moyen_par_m2(df):\n",
    "    # Dictionnaire de mappage pour les types de bien\n",
    "    type_local_map = {\n",
    "        1: 'Maison',\n",
    "        2: 'Appartement',\n",
    "        3: 'Dépendance (isolée)',\n",
    "        4: 'Local industriel et commercial ou assimilés'\n",
    "    }\n",
    "\n",
    "    # Remplacer les codes de type_local par les descriptions lisibles\n",
    "    df['type_local'] = df['code_type_local'].map(type_local_map)\n",
    "\n",
    "    # Liste des départements uniques\n",
    "    departements = df['code_departement'].unique()\n",
    "\n",
    "    # Liste des types de biens uniques\n",
    "    type_bien = df['type_local'].unique()\n",
    "\n",
    "    # Sélecteur de départements\n",
    "    departement_select = widgets.SelectMultiple(\n",
    "        options=departements,\n",
    "        value=[],\n",
    "        description='Départements',\n",
    "        disabled=False,\n",
    "        layout=widgets.Layout(width='60%')\n",
    "    )\n",
    "    departement_select.style.description_width = '100px'\n",
    "\n",
    "    # Sélecteur de types de biens\n",
    "    type_bien_select = widgets.SelectMultiple(\n",
    "        options=type_bien,\n",
    "        value=[],\n",
    "        description='Type de bien',\n",
    "        disabled=False,\n",
    "        layout=widgets.Layout(width='60%')\n",
    "    )\n",
    "    type_bien_select.style.description_width = '100px'\n",
    "\n",
    "    def plot_prix_moyen_par_m2(_=None):\n",
    "        # Récupérer les départements et types de bien sélectionnés\n",
    "        selected_departements = list(departement_select.value)\n",
    "        selected_types_bien = list(type_bien_select.value)\n",
    "\n",
    "        # Si rien n'est sélectionné, on prend tous les départements et types de biens\n",
    "        if not selected_departements:\n",
    "            selected_departements = list(df['code_departement'].unique())\n",
    "        if not selected_types_bien:\n",
    "            selected_types_bien = list(df['type_local'].unique())\n",
    "\n",
    "        # Filtrer les données en fonction des départements et types de bien sélectionnés\n",
    "        df_filtered = df[(df['code_departement'].isin(selected_departements)) & \n",
    "                         (df['type_local'].isin(selected_types_bien))].copy()\n",
    "\n",
    "        # Calculer le prix moyen par m² par département\n",
    "        df_filtered['prix_m2'] = df_filtered['valeur_fonciere'] / df_filtered['surface_terrain']\n",
    "        prix_moyen_par_dept = df_filtered.groupby('code_departement')['prix_m2'].mean()\n",
    "\n",
    "        # Calculer la moyenne des prix des départements sélectionnés\n",
    "        prix_moyen_selectionne = prix_moyen_par_dept.mean()\n",
    "\n",
    "        # Calculer la moyenne nationale des prix par m²\n",
    "        prix_moyen_national = df[df['type_local'].isin(selected_types_bien)].groupby('code_departement')['prix_m2'].mean().mean()\n",
    "\n",
    "        # Création du graphique\n",
    "        fig, ax = plt.subplots(figsize=(20, 6))\n",
    "\n",
    "        # Tracer le prix moyen pour chaque département sélectionné\n",
    "        ax.bar(prix_moyen_par_dept.index, prix_moyen_par_dept)\n",
    "\n",
    "        # Ajouter une barre pour la moyenne des départements sélectionnés\n",
    "        ax.bar('Moyenne Sélectionnée', prix_moyen_selectionne, alpha=0.7)\n",
    "\n",
    "        # Ajouter une barre pour la moyenne nationale\n",
    "        ax.bar('Moyenne Nationale', prix_moyen_national, alpha=0.7)\n",
    "\n",
    "        # Paramètres du graphique\n",
    "        ax.set_ylabel('Prix moyen par m² (€)')\n",
    "        ax.set_xlabel('Départements')\n",
    "        ax.set_title(\"Prix moyen par m² par département, sélection et moyenne globale\")\n",
    "        ax.grid(True, linestyle='--', alpha=0.6)\n",
    "        plt.xticks(rotation=90)\n",
    "        plt.tight_layout()  # Pour éviter que les labels se chevauchent\n",
    "        plt.show()\n",
    "\n",
    "    # Bouton pour afficher les résultats\n",
    "    button = widgets.Button(description=\"Afficher les résultats\", button_style='info')\n",
    "    button.on_click(plot_prix_moyen_par_m2)\n",
    "\n",
    "    # Affichage des widgets pour la sélection\n",
    "    display(departement_select)\n",
    "    display(type_bien_select)\n",
    "    display(button)"
   ]
  },
  {
   "cell_type": "code",
   "execution_count": 188,
   "metadata": {},
   "outputs": [],
   "source": [
    "def afficher_surface_moyenne_par_dept(df):\n",
    "    # Dictionnaire de mappage pour les types de bien\n",
    "    type_local_map = {\n",
    "        1: 'Maison',\n",
    "        2: 'Appartement',\n",
    "        3: 'Dépendance (isolée)',\n",
    "        4: 'Local industriel et commercial ou assimilés'\n",
    "    }\n",
    "\n",
    "    # Remplacer les codes de type_local par les descriptions lisibles\n",
    "    df['type_local'] = df['code_type_local'].map(type_local_map)\n",
    "\n",
    "    # Liste des départements uniques\n",
    "    departements = df['code_departement'].unique()\n",
    "\n",
    "    # Liste des types de biens uniques\n",
    "    type_bien = df['type_local'].unique()\n",
    "\n",
    "    # Sélecteur de départements\n",
    "    departement_select = widgets.SelectMultiple(\n",
    "        options=departements,\n",
    "        value=[],\n",
    "        description='Départements',\n",
    "        disabled=False,\n",
    "        layout=widgets.Layout(width='60%')\n",
    "    )\n",
    "    departement_select.style.description_width = '100px'\n",
    "\n",
    "    # Sélecteur de types de biens\n",
    "    type_bien_select = widgets.SelectMultiple(\n",
    "        options=type_bien,\n",
    "        value=[],\n",
    "        description='Type de bien',\n",
    "        disabled=False,\n",
    "        layout=widgets.Layout(width='60%')\n",
    "    )\n",
    "    type_bien_select.style.description_width = '100px'\n",
    "\n",
    "    def plot_surface_moyenne_par_dept(_=None):\n",
    "        # Récupérer les départements et types de bien sélectionnés\n",
    "        selected_departements = list(departement_select.value)\n",
    "        selected_types_bien = list(type_bien_select.value)\n",
    "\n",
    "        # Si rien n'est sélectionné, on prend tous les départements et types de biens\n",
    "        if not selected_departements:\n",
    "            selected_departements = list(df['code_departement'].unique())\n",
    "        if not selected_types_bien:\n",
    "            selected_types_bien = list(df['type_local'].unique())\n",
    "\n",
    "        # Filtrer les données en fonction des départements et types de bien sélectionnés\n",
    "        df_filtered = df[(df['code_departement'].isin(selected_departements)) & \n",
    "                         (df['type_local'].isin(selected_types_bien))].copy()\n",
    "\n",
    "        \n",
    "        # Calculer la surface moyenne pour chaque département sélectionné\n",
    "        surface_moyenne_par_dept = df_filtered.groupby('code_departement')['surface_terrain'].mean()\n",
    "\n",
    "        # Calculer la moyenne des surfaces des départements sélectionnés\n",
    "        surface_moyenne_selectionnee = surface_moyenne_par_dept.mean()\n",
    "\n",
    "        # Calculer la surface moyenne nationale (moyenne de tous les départements et types de bien sélectionnés)\n",
    "        surface_moyenne_nationale = df[df['type_local'].isin(selected_types_bien)].groupby('code_departement')['surface_terrain'].mean().mean()\n",
    "\n",
    "        # Création du graphique\n",
    "        fig, ax = plt.subplots(figsize=(20, 6))\n",
    "\n",
    "        # Tracer la surface moyenne pour chaque département sélectionné\n",
    "        ax.bar(surface_moyenne_par_dept.index, surface_moyenne_par_dept, label='Surface Moyenne par Département')\n",
    "\n",
    "        # Ajouter une barre pour la moyenne des départements sélectionnés\n",
    "        ax.bar('Moyenne Sélectionnée', surface_moyenne_selectionnee, label='Moyenne Sélectionnée', alpha=0.7)\n",
    "\n",
    "        # Ajouter une barre pour la moyenne nationale\n",
    "        ax.bar('Moyenne Nationale', surface_moyenne_nationale, label='Moyenne Nationale', alpha=0.7)\n",
    "\n",
    "        # Paramètres du graphique\n",
    "        ax.set_ylabel('Surface moyenne en m²')\n",
    "        ax.set_xlabel('Départements')\n",
    "        ax.set_title(\"Surface moyenne en m² par département, sélection et moyenne globale\")\n",
    "        ax.grid(True, linestyle='--', alpha=0.6)\n",
    "        ax.legend(title=\"Légende\", bbox_to_anchor=(1.05, 1), loc='upper left')\n",
    "        plt.xticks(rotation=90)\n",
    "        plt.tight_layout()  # Pour éviter que les labels se chevauchent\n",
    "        plt.show()\n",
    "\n",
    "    # Bouton pour afficher les résultats\n",
    "    button = widgets.Button(description=\"Afficher les résultats\", button_style='info')\n",
    "    button.on_click(plot_surface_moyenne_par_dept)\n",
    "\n",
    "    # Affichage des widgets pour la sélection\n",
    "    display(departement_select)\n",
    "    display(type_bien_select)\n",
    "    display(button)\n"
   ]
  },
  {
   "cell_type": "code",
   "execution_count": 189,
   "metadata": {},
   "outputs": [],
   "source": [
    "def evolution_prix_moyen_par_m2_par_departement_mensuel(df):\n",
    "    type_local_map = {\n",
    "        1: 'Maison',\n",
    "        2: 'Appartement',\n",
    "        3: 'Dépendance (isolée)',\n",
    "        4: 'Local industriel et commercial ou assimilés'\n",
    "    }\n",
    "\n",
    "    # Remplacer les codes de type_local par les descriptions lisibles\n",
    "    df['type_local'] = df['code_type_local'].map(type_local_map)\n",
    "\n",
    "    departements = df['code_departement'].unique()\n",
    "\n",
    "    departement_select = widgets.SelectMultiple(\n",
    "        options=departements,\n",
    "        value=[],\n",
    "        description='Départements',\n",
    "        disabled=False,\n",
    "        layout=widgets.Layout(width='60%')\n",
    "    )\n",
    "    departement_select.style.description_width = '100px'\n",
    "\n",
    "    type_maison = df['type_local'].unique()\n",
    "\n",
    "    type_bien_select = widgets.SelectMultiple(\n",
    "        options=type_maison,\n",
    "        value=[],\n",
    "        description='Type de bien',\n",
    "        disabled=False,\n",
    "        layout=widgets.Layout(width='60%')\n",
    "    )\n",
    "    type_bien_select.style.description_width = '100px'\n",
    "\n",
    "    # Fonction pour afficher l'évolution du prix moyen par m² mensuel\n",
    "    def afficher_graphique(_=None):\n",
    "        selected_departements = list(departement_select.value)\n",
    "        selected_types_bien = list(type_bien_select.value)\n",
    "\n",
    "        if not selected_departements:\n",
    "            selected_departements = list(df['code_departement'].unique())\n",
    "        if not selected_types_bien:\n",
    "            selected_types_bien = list(df['type_local'].unique())\n",
    "\n",
    "        # Filtrer les données en fonction des départements et types de bien sélectionnés\n",
    "        df_filtered = df[df['code_departement'].isin(selected_departements) & df['type_local'].isin(selected_types_bien)].copy()\n",
    "\n",
    "        # S'assurer que la colonne de date est au bon format (si ce n'est pas déjà le cas)\n",
    "        df_filtered['date_mutation'] = pd.to_datetime(df_filtered['date_mutation'])\n",
    "\n",
    "        # Calculer le prix au m²\n",
    "        df_filtered['prix_m2'] = df_filtered['valeur_fonciere'] / df_filtered['surface_terrain']\n",
    "\n",
    "        # Extraire l'année et le mois de la date de transaction\n",
    "        df_filtered['mois_annee'] = df_filtered['date_mutation'].dt.to_period('M')\n",
    "\n",
    "        # Groupement par département et par mois\n",
    "        prix_moyen_par_dept_mois = df_filtered.groupby(['code_departement', 'mois_annee'])['prix_m2'].mean().reset_index()\n",
    "\n",
    "        # Créer le graphique\n",
    "        plt.figure(figsize=(15, 8))\n",
    "\n",
    "        # Ajouter la courbe pour la moyenne générale\n",
    "        df_dept_global = df_filtered.groupby('mois_annee')['prix_m2'].mean().reset_index()\n",
    "        plt.plot(df_dept_global['mois_annee'].astype(str), df_dept_global['prix_m2'], marker='o', label='Moyenne générale', linewidth=2)\n",
    "\n",
    "        # Ajouter la courbe pour la moyenne nationale (basée sur l'intégralité des données)\n",
    "        df_national_global = df.groupby('mois_annee')['prix_m2'].mean().reset_index()\n",
    "        plt.plot(df_national_global['mois_annee'].astype(str), df_national_global['prix_m2'], marker='o', label='Moyenne nationale', linewidth=2)\n",
    "\n",
    "         # Ajouter les courbes pour chaque département sélectionné\n",
    "        for departement in selected_departements:\n",
    "            df_dept = prix_moyen_par_dept_mois[prix_moyen_par_dept_mois['code_departement'] == departement]\n",
    "            plt.plot(df_dept['mois_annee'].astype(str), df_dept['prix_m2'], marker='o', label=f'Département {departement}')\n",
    "\n",
    "        plt.title(\"Évolution du prix moyen par m² par département (mensuel)\")\n",
    "        plt.xlabel(\"Mois et Année\")\n",
    "        plt.ylabel(\"Prix moyen par m² (€)\")\n",
    "        plt.legend(title=\"Types de Bien\", bbox_to_anchor=(1.05, 1), loc='upper left')\n",
    "        plt.grid(True, linestyle='--', alpha=0.6)\n",
    "        plt.xticks(rotation=45)\n",
    "        plt.tight_layout()  # Pour éviter que les labels se chevauchent\n",
    "        plt.show()\n",
    "\n",
    "    # Bouton pour afficher les résultats\n",
    "    button = widgets.Button(description=\"Afficher les résultats\", button_style='info')\n",
    "    button.on_click(afficher_graphique)\n",
    "\n",
    "    # Afficher les widgets pour la sélection\n",
    "    display(departement_select)\n",
    "    display(type_bien_select)\n",
    "    display(button)\n"
   ]
  },
  {
   "cell_type": "code",
   "execution_count": 190,
   "metadata": {},
   "outputs": [],
   "source": [
    "def afficher_nombre_piece_departement(df):\n",
    "    # Dictionnaire de mappage pour les types de bien\n",
    "    type_local_map = {\n",
    "        1: 'Maison',\n",
    "        2: 'Appartement',\n",
    "        3: 'Dépendance (isolée)',\n",
    "        4: 'Local industriel et commercial ou assimilés'\n",
    "    }\n",
    "\n",
    "    # Remplacer les codes de type_local par les descriptions lisibles\n",
    "    df['type_local'] = df['code_type_local'].map(type_local_map)\n",
    "\n",
    "    departements = df['code_departement'].unique()\n",
    "\n",
    "    # Widget pour sélectionner les départements\n",
    "    departement_select = widgets.SelectMultiple(\n",
    "        options=departements,\n",
    "        value=[],\n",
    "        description='Départements',\n",
    "        disabled=False,\n",
    "        layout=widgets.Layout(width='60%')\n",
    "    )\n",
    "    departement_select.style.description_width = '100px'\n",
    "\n",
    "    # Widget pour sélectionner les types de bien\n",
    "    type_maison = df['type_local'].unique()\n",
    "\n",
    "    type_bien_select = widgets.SelectMultiple(\n",
    "        options=type_maison,\n",
    "        value=[],\n",
    "        description='Type de bien',\n",
    "        disabled=False,\n",
    "        layout=widgets.Layout(width='60%')\n",
    "    )\n",
    "    type_bien_select.style.description_width = '100px'\n",
    "\n",
    "    # Fonction pour afficher le graphique\n",
    "    def afficher_graphique(_=None):\n",
    "        selected_departements = list(departement_select.value)\n",
    "        selected_types_bien = list(type_bien_select.value)\n",
    "\n",
    "        # Si aucun département n'est sélectionné, afficher tous les départements\n",
    "        if not selected_departements:\n",
    "            selected_departements = list(df['code_departement'].unique())\n",
    "        \n",
    "        # Si aucun type de bien n'est sélectionné, afficher tous les types de bien\n",
    "        if not selected_types_bien:\n",
    "            selected_types_bien = list(df['type_local'].unique())\n",
    "\n",
    "        # Filtrer les données en fonction des départements et types de bien sélectionnés\n",
    "        df_filtered = df[df['code_departement'].isin(selected_departements) & df['type_local'].isin(selected_types_bien)].copy()\n",
    "\n",
    "        # Calculer le nombre moyen de pièces\n",
    "        df_filtered['nombre_piece'] = df_filtered['nombre_pieces_principales']\n",
    "\n",
    "        # Groupement par département pour calculer la moyenne des pièces\n",
    "        nombre_piece_par_dept = df_filtered.groupby('code_departement')['nombre_piece'].mean().reset_index()\n",
    "\n",
    "        # Ajouter la moyenne générale des départements sélectionnés\n",
    "        moyenne_selection = nombre_piece_par_dept['nombre_piece'].mean()\n",
    "\n",
    "        # Ajouter une barre pour la moyenne générale\n",
    "        departements = list(nombre_piece_par_dept['code_departement'])\n",
    "        nombre_piece = list(nombre_piece_par_dept['nombre_piece'])\n",
    "\n",
    "        # Créer le graphique\n",
    "        plt.figure(figsize=(15, 8))\n",
    "        plt.bar(departements, nombre_piece, color='skyblue')\n",
    "        plt.axhline(moyenne_selection, color='red', linestyle='dashed', linewidth=2, label='Moyenne Sélectionnée')\n",
    "\n",
    "        plt.title(\"Nombre moyen de pièces par département et par type de bien sélectionné\")\n",
    "        plt.xlabel(\"Département\")\n",
    "        plt.ylabel(\"Nombre moyen de pièces\")\n",
    "        plt.xticks(rotation=90)\n",
    "        plt.legend()\n",
    "        plt.grid(True, linestyle='--', alpha=0.6)\n",
    "        plt.tight_layout()  # Pour éviter que les labels se chevauchent\n",
    "        plt.show()\n",
    "\n",
    "    # Bouton pour afficher les résultats\n",
    "    button = widgets.Button(description=\"Afficher les résultats\", button_style='info')\n",
    "    button.on_click(afficher_graphique)\n",
    "\n",
    "    # Afficher les widgets pour la sélection\n",
    "    display(departement_select)\n",
    "    display(type_bien_select)\n",
    "    display(button)\n"
   ]
  },
  {
   "cell_type": "markdown",
   "metadata": {},
   "source": [
    "### III. Exécution des fonctions"
   ]
  },
  {
   "cell_type": "code",
   "execution_count": 191,
   "metadata": {},
   "outputs": [
    {
     "data": {
      "application/vnd.jupyter.widget-view+json": {
       "model_id": "4f115cd690ca48408474eda841c2728c",
       "version_major": 2,
       "version_minor": 0
      },
      "text/plain": [
       "SelectMultiple(description='Départements', layout=Layout(width='60%'), options=('01', '02', '03', '04', '05', …"
      ]
     },
     "metadata": {},
     "output_type": "display_data"
    },
    {
     "data": {
      "application/vnd.jupyter.widget-view+json": {
       "model_id": "ddf859ea621a4f4e9fda829cd17acc3f",
       "version_major": 2,
       "version_minor": 0
      },
      "text/plain": [
       "SelectMultiple(description='Type de bien', layout=Layout(width='60%'), options=('Dépendance (isolée)', 'Appart…"
      ]
     },
     "metadata": {},
     "output_type": "display_data"
    },
    {
     "data": {
      "application/vnd.jupyter.widget-view+json": {
       "model_id": "45812fa9fd3d4072aa4cf76680942ed4",
       "version_major": 2,
       "version_minor": 0
      },
      "text/plain": [
       "Button(button_style='info', description='Afficher les résultats', style=ButtonStyle())"
      ]
     },
     "metadata": {},
     "output_type": "display_data"
    }
   ],
   "source": [
    "afficher_prix_moyen_par_m2(data)"
   ]
  },
  {
   "cell_type": "code",
   "execution_count": 192,
   "metadata": {},
   "outputs": [
    {
     "data": {
      "application/vnd.jupyter.widget-view+json": {
       "model_id": "ac6f14cc7e5e46239b0b008db440fc00",
       "version_major": 2,
       "version_minor": 0
      },
      "text/plain": [
       "SelectMultiple(description='Départements', layout=Layout(width='60%'), options=('01', '02', '03', '04', '05', …"
      ]
     },
     "metadata": {},
     "output_type": "display_data"
    },
    {
     "data": {
      "application/vnd.jupyter.widget-view+json": {
       "model_id": "79694894256044bcb28551a713617d18",
       "version_major": 2,
       "version_minor": 0
      },
      "text/plain": [
       "SelectMultiple(description='Type de bien', layout=Layout(width='60%'), options=('Dépendance (isolée)', 'Appart…"
      ]
     },
     "metadata": {},
     "output_type": "display_data"
    },
    {
     "data": {
      "application/vnd.jupyter.widget-view+json": {
       "model_id": "3788bc76a5f74a5395acba673e37d650",
       "version_major": 2,
       "version_minor": 0
      },
      "text/plain": [
       "Button(button_style='info', description='Afficher les résultats', style=ButtonStyle())"
      ]
     },
     "metadata": {},
     "output_type": "display_data"
    }
   ],
   "source": [
    "evolution_prix_moyen_par_m2_par_departement_mensuel(data)"
   ]
  },
  {
   "cell_type": "code",
   "execution_count": 193,
   "metadata": {},
   "outputs": [
    {
     "data": {
      "application/vnd.jupyter.widget-view+json": {
       "model_id": "60c918dd1e2e4e6a9f5fa89c9023391d",
       "version_major": 2,
       "version_minor": 0
      },
      "text/plain": [
       "SelectMultiple(description='Départements', layout=Layout(width='60%'), options=('01', '02', '03', '04', '05', …"
      ]
     },
     "metadata": {},
     "output_type": "display_data"
    },
    {
     "data": {
      "application/vnd.jupyter.widget-view+json": {
       "model_id": "b6139bbf0b52486c9a2dd05d6742a9b4",
       "version_major": 2,
       "version_minor": 0
      },
      "text/plain": [
       "SelectMultiple(description='Type de bien', layout=Layout(width='60%'), options=('Dépendance (isolée)', 'Appart…"
      ]
     },
     "metadata": {},
     "output_type": "display_data"
    },
    {
     "data": {
      "application/vnd.jupyter.widget-view+json": {
       "model_id": "c9012911d06d4ad0bcbd847b55016e19",
       "version_major": 2,
       "version_minor": 0
      },
      "text/plain": [
       "Button(button_style='info', description='Afficher les résultats', style=ButtonStyle())"
      ]
     },
     "metadata": {},
     "output_type": "display_data"
    }
   ],
   "source": [
    "afficher_surface_moyenne_par_dept(data)"
   ]
  },
  {
   "cell_type": "code",
   "execution_count": 194,
   "metadata": {},
   "outputs": [
    {
     "data": {
      "application/vnd.jupyter.widget-view+json": {
       "model_id": "331dbf71938e45368f77fc14a0df3eb6",
       "version_major": 2,
       "version_minor": 0
      },
      "text/plain": [
       "SelectMultiple(description='Départements', layout=Layout(width='60%'), options=('01', '02', '03', '04', '05', …"
      ]
     },
     "metadata": {},
     "output_type": "display_data"
    },
    {
     "data": {
      "application/vnd.jupyter.widget-view+json": {
       "model_id": "3e2d25a2acea4c1eaa79479970ef4dc9",
       "version_major": 2,
       "version_minor": 0
      },
      "text/plain": [
       "SelectMultiple(description='Type de bien', layout=Layout(width='60%'), options=('Dépendance (isolée)', 'Appart…"
      ]
     },
     "metadata": {},
     "output_type": "display_data"
    },
    {
     "data": {
      "application/vnd.jupyter.widget-view+json": {
       "model_id": "42dc9f2eb6de4d508c3e9868a086740c",
       "version_major": 2,
       "version_minor": 0
      },
      "text/plain": [
       "Button(button_style='info', description='Afficher les résultats', style=ButtonStyle())"
      ]
     },
     "metadata": {},
     "output_type": "display_data"
    }
   ],
   "source": [
    "afficher_nombre_piece_departement(data)"
   ]
  }
 ],
 "metadata": {
  "kernelspec": {
   "display_name": "base",
   "language": "python",
   "name": "python3"
  },
  "language_info": {
   "codemirror_mode": {
    "name": "ipython",
    "version": 3
   },
   "file_extension": ".py",
   "mimetype": "text/x-python",
   "name": "python",
   "nbconvert_exporter": "python",
   "pygments_lexer": "ipython3",
   "version": "3.12.3"
  }
 },
 "nbformat": 4,
 "nbformat_minor": 2
}
