{
 "cells": [
  {
   "cell_type": "markdown",
   "metadata": {},
   "source": [
    "### I. Library import \n"
   ]
  },
  {
   "cell_type": "code",
   "execution_count": 5,
   "metadata": {},
   "outputs": [],
   "source": [
    "import ipywidgets as widgets\n",
    "from ipywidgets import interact, interactive,HBox, VBox\n",
    "import numpy as np\n",
    "import matplotlib.pyplot as plt\n",
    "import pandas as pd"
   ]
  },
  {
   "cell_type": "code",
   "execution_count": 11,
   "metadata": {},
   "outputs": [],
   "source": [
    "data2 = pd.read_csv(\"data.csv\",low_memory=False)\n",
    "data1 = pd.read_csv(\"data2023.csv\",low_memory=False)\n",
    "data = pd.concat([data1, data2], ignore_index=True)"
   ]
  },
  {
   "cell_type": "code",
   "execution_count": 7,
   "metadata": {},
   "outputs": [
    {
     "name": "stdout",
     "output_type": "stream",
     "text": [
      "<class 'pandas.core.frame.DataFrame'>\n",
      "RangeIndex: 1584106 entries, 0 to 1584105\n",
      "Data columns (total 12 columns):\n",
      " #   Column                     Non-Null Count    Dtype  \n",
      "---  ------                     --------------    -----  \n",
      " 0   date_mutation              1584106 non-null  object \n",
      " 1   nature_mutation            1584106 non-null  object \n",
      " 2   valeur_fonciere            1584106 non-null  float64\n",
      " 3   code_commune               1584106 non-null  object \n",
      " 4   code_departement           1584106 non-null  object \n",
      " 5   id_parcelle                1584106 non-null  object \n",
      " 6   nombre_lots                1584106 non-null  int64  \n",
      " 7   code_type_local            1584106 non-null  float64\n",
      " 8   nombre_pieces_principales  1584106 non-null  float64\n",
      " 9   surface_terrain            1584106 non-null  float64\n",
      " 10  longitude                  1584106 non-null  float64\n",
      " 11  latitude                   1584106 non-null  float64\n",
      "dtypes: float64(6), int64(1), object(5)\n",
      "memory usage: 145.0+ MB\n"
     ]
    }
   ],
   "source": [
    "data.info()"
   ]
  },
  {
   "cell_type": "markdown",
   "metadata": {},
   "source": [
    "### II. Création des fonctions"
   ]
  },
  {
   "cell_type": "code",
   "execution_count": 51,
   "metadata": {},
   "outputs": [],
   "source": [
    "def selection_filtres_et_analyses(df):\n",
    "    # **Préparation des filtres**\n",
    "    type_local_map = {\n",
    "        1: 'Maison',\n",
    "        2: 'Appartement',\n",
    "        3: 'Dépendance (isolée)',\n",
    "        4: 'Local industriel et commercial ou assimilés'\n",
    "    }\n",
    "    df['type_local'] = df['code_type_local'].map(type_local_map)\n",
    "    \n",
    "    departements = df['code_departement'].unique()\n",
    "    types_biens = df['type_local'].unique()\n",
    "    \n",
    "    # **Widgets pour les filtres**\n",
    "    departement_select = widgets.SelectMultiple(\n",
    "        options=departements,\n",
    "        value=[],\n",
    "        description='Départements',\n",
    "        layout=widgets.Layout(width='60%')\n",
    "    )\n",
    "    departement_select.style.description_width = '100px'\n",
    "    \n",
    "    type_bien_select = widgets.SelectMultiple(\n",
    "        options=types_biens,\n",
    "        value=[],\n",
    "        description='Types de biens',\n",
    "        layout=widgets.Layout(width='60%')\n",
    "    )\n",
    "    type_bien_select.style.description_width = '100px'\n",
    "    \n",
    "    # **Widget pour sélectionner l'analyse à exécuter**\n",
    "    analyses_disponibles = {\n",
    "        \"Prix moyen par m²\": afficher_prix_moyen_par_m2,\n",
    "        \"Surface moyenne\" : afficher_surface_moyenne_par_dept,\n",
    "        \"Evolution des prix\" : evolution_prix_moyen_par_m2_par_departement_mensuel,\n",
    "        \"Nombre pièces principales\" :afficher_nombre_piece_departement,\n",
    "        \"Type de bien par departement\" : repartition_type_bien_par_departement,\n",
    "        \"Répartition des valeurs foncières\" : repartition_Valeur_fonciere_par_tranche\n",
    "        \n",
    "    }\n",
    "    \n",
    "    analyse_select = widgets.SelectMultiple(\n",
    "        options=list(analyses_disponibles.keys()),\n",
    "        description='Analyse',\n",
    "        layout=widgets.Layout(width='60%')\n",
    "    )\n",
    "    \n",
    "    analyse_select.style.description_width = '100px'\n",
    "    \n",
    "    # Bouton pour appliquer les filtres\n",
    "    bouton_apply = widgets.Button(description=\"Appliquer les filtres\", button_style='success')\n",
    "\n",
    "    # Fonction pour récupérer les filtres et exécuter l'analyse\n",
    "    def appliquer_filtres(_):\n",
    "        selected_analyses = list(analyse_select.value)\n",
    "        \n",
    "        # Exécuter chaque analyse sélectionnée\n",
    "        for analyse in selected_analyses:\n",
    "            func = analyses_disponibles[analyse]\n",
    "            func(df, departement_select, type_bien_select)\n",
    "    \n",
    "    # Lier le bouton à la fonction\n",
    "    bouton_apply.on_click(appliquer_filtres)\n",
    "    \n",
    "    # Afficher les widgets\n",
    "    display(departement_select, type_bien_select, analyse_select, bouton_apply)"
   ]
  },
  {
   "cell_type": "code",
   "execution_count": 3,
   "metadata": {},
   "outputs": [],
   "source": [
    "def afficher_prix_moyen_par_m2(df,departement_select,type_bien_select):\n",
    "\n",
    "    # Récupérer les départements et types de bien sélectionnés\n",
    "    selected_departements = list(departement_select.value)\n",
    "    selected_types_bien = list(type_bien_select.value)\n",
    "\n",
    "    # Si rien n'est sélectionné, on prend tous les départements et types de biens\n",
    "    if not selected_departements:\n",
    "        selected_departements = list(df['code_departement'].unique())\n",
    "    if not selected_types_bien:\n",
    "        selected_types_bien = list(df['type_local'].unique())\n",
    "    \n",
    "    df['prix_m2'] = df['valeur_fonciere'] / df['surface_terrain']\n",
    "\n",
    "    # Filtrer les données en fonction des départements et types de bien sélectionnés\n",
    "    df_filtered = df[(df['code_departement'].isin(selected_departements)) & \n",
    "                        (df['type_local'].isin(selected_types_bien))].copy()\n",
    "\n",
    "    # Calculer le prix moyen par m² par département\n",
    "    prix_moyen_par_dept = df_filtered.groupby('code_departement')['prix_m2'].mean()\n",
    "\n",
    "    # Calculer la moyenne des prix des départements sélectionnés\n",
    "    prix_moyen_selectionne = prix_moyen_par_dept.mean()\n",
    "\n",
    "    # Calculer la moyenne nationale des prix par m²\n",
    "    prix_moyen_national = df[df['type_local'].isin(selected_types_bien)].groupby('code_departement')['prix_m2'].mean().mean()\n",
    "\n",
    "    # Création du graphique\n",
    "    fig, ax = plt.subplots(figsize=(20, 6))\n",
    "\n",
    "    # Tracer le prix moyen pour chaque département sélectionné\n",
    "    ax.bar(prix_moyen_par_dept.index, prix_moyen_par_dept)\n",
    "\n",
    "    # Ajouter une barre pour la moyenne des départements sélectionnés\n",
    "    ax.bar('Moyenne Sélectionnée', prix_moyen_selectionne, alpha=0.7)\n",
    "\n",
    "    # Ajouter une barre pour la moyenne nationale\n",
    "    ax.bar('Moyenne Nationale', prix_moyen_national, alpha=0.7)\n",
    "\n",
    "    # Paramètres du graphique\n",
    "    ax.set_ylabel('Prix moyen par m² (€)')\n",
    "    ax.set_xlabel('Départements')\n",
    "    ax.set_title(\"Prix moyen par m² par département, sélection et moyenne globale\")\n",
    "    ax.grid(True, linestyle='--', alpha=0.6)\n",
    "    plt.xticks(rotation=90)\n",
    "    plt.tight_layout()  # Pour éviter que les labels se chevauchent\n",
    "    plt.show()\n"
   ]
  },
  {
   "cell_type": "code",
   "execution_count": 13,
   "metadata": {},
   "outputs": [],
   "source": [
    "def afficher_surface_moyenne_par_dept(df,departement_select,type_bien_select):\n",
    "    \n",
    "    # Récupérer les départements et types de bien sélectionnés\n",
    "    selected_departements = list(departement_select.value)\n",
    "    selected_types_bien = list(type_bien_select.value)\n",
    "\n",
    "    # Si rien n'est sélectionné, on prend tous les départements et types de biens\n",
    "    if not selected_departements:\n",
    "        selected_departements = list(df['code_departement'].unique())\n",
    "    if not selected_types_bien:\n",
    "        selected_types_bien = list(df['type_local'].unique())\n",
    "\n",
    "    # Filtrer les données en fonction des départements et types de bien sélectionnés\n",
    "    df_filtered = df[(df['code_departement'].isin(selected_departements)) & \n",
    "                        (df['type_local'].isin(selected_types_bien))].copy()\n",
    "\n",
    "    \n",
    "    # Calculer la surface moyenne pour chaque département sélectionné\n",
    "    surface_moyenne_par_dept = df_filtered.groupby('code_departement')['surface_terrain'].mean()\n",
    "\n",
    "    # Calculer la moyenne des surfaces des départements sélectionnés\n",
    "    surface_moyenne_selectionnee = surface_moyenne_par_dept.mean()\n",
    "\n",
    "    # Calculer la surface moyenne nationale (moyenne de tous les départements et types de bien sélectionnés)\n",
    "    surface_moyenne_nationale = df[df['type_local'].isin(selected_types_bien)].groupby('code_departement')['surface_terrain'].mean().mean()\n",
    "\n",
    "    # Création du graphique\n",
    "    fig, ax = plt.subplots(figsize=(20, 6))\n",
    "\n",
    "    # Tracer la surface moyenne pour chaque département sélectionné\n",
    "    ax.bar(surface_moyenne_par_dept.index, surface_moyenne_par_dept, label='Surface Moyenne par Département')\n",
    "\n",
    "    # Ajouter une barre pour la moyenne des départements sélectionnés\n",
    "    ax.bar('Moyenne Sélectionnée', surface_moyenne_selectionnee, label='Moyenne Sélectionnée', alpha=0.7)\n",
    "\n",
    "    # Ajouter une barre pour la moyenne nationale\n",
    "    ax.bar('Moyenne Nationale', surface_moyenne_nationale, label='Moyenne Nationale', alpha=0.7)\n",
    "\n",
    "    # Paramètres du graphique\n",
    "    ax.set_ylabel('Surface moyenne en m²')\n",
    "    ax.set_xlabel('Départements')\n",
    "    ax.set_title(\"Surface moyenne en m² par département, sélection et moyenne globale\")\n",
    "    ax.grid(True, linestyle='--', alpha=0.6)\n",
    "    ax.legend(title=\"Légende\", bbox_to_anchor=(1.05, 1), loc='upper left')\n",
    "    plt.xticks(rotation=90)\n",
    "    plt.tight_layout()  # Pour éviter que les labels se chevauchent\n",
    "    plt.show()"
   ]
  },
  {
   "cell_type": "code",
   "execution_count": 14,
   "metadata": {},
   "outputs": [],
   "source": [
    "def evolution_prix_moyen_par_m2_par_departement_mensuel(df,departement_select,type_bien_select):\n",
    "    selected_departements = list(departement_select.value)\n",
    "    selected_types_bien = list(type_bien_select.value)\n",
    "\n",
    "    if not selected_departements:\n",
    "        selected_departements = list(df['code_departement'].unique())\n",
    "    if not selected_types_bien:\n",
    "        selected_types_bien = list(df['type_local'].unique())\n",
    "\n",
    "    # Filtrer les données en fonction des départements et types de bien sélectionnés\n",
    "    df_filtered = df[df['code_departement'].isin(selected_departements) & df['type_local'].isin(selected_types_bien)].copy()\n",
    "\n",
    "    # S'assurer que la colonne de date est au bon format (si ce n'est pas déjà le cas)\n",
    "    df_filtered['date_mutation'] = pd.to_datetime(df_filtered['date_mutation'])\n",
    "\n",
    "    # Calculer le prix au m²\n",
    "    df_filtered['prix_m2'] = df_filtered['valeur_fonciere'] / df_filtered['surface_terrain']\n",
    "\n",
    "    # Extraire l'année et le mois de la date de transaction\n",
    "    df_filtered['mois_annee'] = df_filtered['date_mutation'].dt.to_period('M')\n",
    "\n",
    "    # Groupement par département et par mois\n",
    "    prix_moyen_par_dept_mois = df_filtered.groupby(['code_departement', 'mois_annee'])['prix_m2'].mean().reset_index()\n",
    "\n",
    "    # Créer le graphique\n",
    "    plt.figure(figsize=(15, 8))\n",
    "\n",
    "    # Ajouter la courbe pour la moyenne générale\n",
    "    df_dept_global = df_filtered.groupby('mois_annee')['prix_m2'].mean().reset_index()\n",
    "    plt.plot(df_dept_global['mois_annee'].astype(str), df_dept_global['prix_m2'], marker='o', label='Moyenne générale', linewidth=2)\n",
    "\n",
    "    # Ajouter la courbe pour la moyenne nationale (basée sur l'intégralité des données)\n",
    "    df_national_global = df_filtered.groupby('mois_annee')['prix_m2'].mean().reset_index()\n",
    "    plt.plot(df_national_global['mois_annee'].astype(str), df_national_global['prix_m2'], marker='o', label='Moyenne nationale', linewidth=2)\n",
    "\n",
    "    # Ajouter les courbes pour chaque département sélectionné\n",
    "    for departement in selected_departements:\n",
    "        df_dept = prix_moyen_par_dept_mois[prix_moyen_par_dept_mois['code_departement'] == departement]\n",
    "        plt.plot(df_dept['mois_annee'].astype(str), df_dept['prix_m2'], marker='o', label=f'Département {departement}')\n",
    "\n",
    "    plt.title(\"Évolution du prix moyen par m² par département (mensuel)\")\n",
    "    plt.xlabel(\"Mois et Année\")\n",
    "    plt.ylabel(\"Prix moyen par m² (€)\")\n",
    "    plt.legend(title=\"Types de Bien\", bbox_to_anchor=(1.05, 1), loc='upper left')\n",
    "    plt.grid(True, linestyle='--', alpha=0.6)\n",
    "    plt.xticks(rotation=45)\n",
    "    plt.tight_layout()  # Pour éviter que les labels se chevauchent\n",
    "    plt.show()"
   ]
  },
  {
   "cell_type": "code",
   "execution_count": 39,
   "metadata": {},
   "outputs": [],
   "source": [
    "def afficher_nombre_piece_departement(df,departement_select,type_bien_select):\n",
    "    selected_departements = list(departement_select.value)\n",
    "    selected_types_bien = list(type_bien_select.value)\n",
    "\n",
    "    # Si aucun département n'est sélectionné, afficher tous les départements\n",
    "    if not selected_departements:\n",
    "        selected_departements = list(df['code_departement'].unique())\n",
    "    \n",
    "    # Si aucun type de bien n'est sélectionné, afficher tous les types de bien\n",
    "    if not selected_types_bien:\n",
    "        selected_types_bien = list(df['type_local'].unique())\n",
    "\n",
    "    # Filtrer les données en fonction des départements et types de bien sélectionnés\n",
    "    df_filtered = df[df['code_departement'].isin(selected_departements) & df['type_local'].isin(selected_types_bien)].copy()\n",
    "\n",
    "    # Groupement par département pour calculer la moyenne des pièces\n",
    "    nombre_piece_par_dept = df_filtered.groupby('code_departement')['nombre_pieces_principales'].mean().reset_index()\n",
    "\n",
    "    # Ajouter la moyenne générale des départements sélectionnés\n",
    "    moyenne_selection = df_filtered['nombre_pieces_principales'].mean()\n",
    "    moyenne_nationale = df['nombre_pieces_principales'].mean()\n",
    "\n",
    "    # Ajouter une barre pour la moyenne générale\n",
    "    departements = list(nombre_piece_par_dept['code_departement'])\n",
    "    nombre_piece = list(nombre_piece_par_dept['nombre_pieces_principales'])\n",
    "\n",
    "    # Créer le graphique\n",
    "    plt.figure(figsize=(15, 8))\n",
    "    plt.bar(departements, nombre_piece, color='skyblue')\n",
    "    plt.axhline(moyenne_selection, color='red', linestyle='dashed', linewidth=2, label='Moyenne Sélectionnée')\n",
    "    plt.axhline(moyenne_nationale, color='green', linestyle='dashed', linewidth=2, label='Moyenne nationale')\n",
    "\n",
    "    plt.title(\"Nombre moyen de pièces par département et par type de bien sélectionné\")\n",
    "    plt.xlabel(\"Département\")\n",
    "    plt.ylabel(\"Nombre moyen de pièces\")\n",
    "    plt.xticks(rotation=90)\n",
    "    plt.legend()\n",
    "    plt.grid(True, linestyle='--', alpha=0.6)\n",
    "    plt.tight_layout()  # Pour éviter que les labels se chevauchent\n",
    "    plt.show()"
   ]
  },
  {
   "cell_type": "code",
   "execution_count": 47,
   "metadata": {},
   "outputs": [],
   "source": [
    "def repartition_type_bien_par_departement(df,departement_select,type_bien_select):\n",
    "    selected_departements = list(departement_select.value)\n",
    "\n",
    "    if not selected_departements:\n",
    "        selected_departements = list(df['code_departement'].unique())\n",
    "\n",
    "    # Filtrer les données pour les départements sélectionnés\n",
    "    df_filtered = df[df['code_departement'].isin(selected_departements)].copy()\n",
    "\n",
    "    # Calculer la répartition des types de biens par département\n",
    "    repartition = df_filtered.groupby(['code_departement', 'type_local']).size().unstack(fill_value=0)\n",
    "\n",
    "    # Normaliser pour obtenir des proportions (en %)\n",
    "    repartition_norm = repartition.div(repartition.sum(axis=1), axis=0) * 100\n",
    "\n",
    "    # Création d'un graphique en barres empilées\n",
    "    repartition_norm.plot(kind='bar', figsize=(15, 8), stacked=True, colormap='tab20')\n",
    "\n",
    "    #  option d'affichage du graphique\n",
    "    plt.title(\"Répartition des transactions par type de bien et par département\")\n",
    "    plt.xlabel(\"Département\")\n",
    "    plt.ylabel(\"Proportion des transactions (%)\")\n",
    "    plt.legend(title=\"Type de bien\", bbox_to_anchor=(1.05, 1), loc='upper left')\n",
    "    plt.grid(axis='y', linestyle='--', alpha=0.6)\n",
    "    plt.xticks(rotation=45)\n",
    "    plt.tight_layout()\n",
    "\n",
    "    plt.show()"
   ]
  },
  {
   "cell_type": "code",
   "execution_count": 44,
   "metadata": {},
   "outputs": [],
   "source": [
    "def repartition_Valeur_fonciere_par_tranche(df,departement_select,type_bien_select):\n",
    "    tranches_valeur = [0, 50000, 100000, 200000, 300000, 500000, 1000000, float('inf')]\n",
    "    labels_tranches = [\n",
    "        \"< 50k €\",\n",
    "        \"50k - 100k €\",\n",
    "        \"100k - 200k €\",\n",
    "        \"200k - 300k €\",\n",
    "        \"300k - 500k €\",\n",
    "        \"500k - 1M €\",\n",
    "        \"> 1M €\"\n",
    "    ]\n",
    "\n",
    "    # Ajouter une colonne pour la tranche de valeur foncière\n",
    "    df['tranche_valeur'] = pd.cut(df['valeur_fonciere'], bins=tranches_valeur, labels=labels_tranches, include_lowest=True)\n",
    "    selected_departements = list(departement_select.value)\n",
    "\n",
    "    if not selected_departements:\n",
    "        selected_departements = list(df['code_departement'].unique())\n",
    "\n",
    "    # Filtrer les données en fonction des départements sélectionnés\n",
    "    df_filtered = df[df['code_departement'].isin(selected_departements)].copy()\n",
    "\n",
    "    # Compter le nombre de transactions par tranche et par département\n",
    "    repartition = df_filtered.groupby(['code_departement', 'tranche_valeur']).size().unstack(fill_value=0)\n",
    "\n",
    "    # Normaliser pour obtenir des proportions (en %)\n",
    "    repartition_norm = repartition.div(repartition.sum(axis=1), axis=0) * 100\n",
    "\n",
    "    # Création du graphique\n",
    "    repartition_norm.T.plot(kind='bar', figsize=(15, 8), stacked=True, colormap='tab10')\n",
    "\n",
    "    # option d'affichage du graphique\n",
    "    plt.title(\"Répartition des transactions par tranche de valeur foncière et par département\")\n",
    "    plt.xlabel(\"Tranche de valeur foncière (€)\")\n",
    "    plt.ylabel(\"Proportion des transactions (%)\")\n",
    "    plt.legend(title=\"Département\", bbox_to_anchor=(1.05, 1), loc='upper left')\n",
    "    plt.grid(axis='y', linestyle='--', alpha=0.6)\n",
    "    plt.xticks(rotation=45)\n",
    "    plt.tight_layout()\n",
    "\n",
    "    plt.show()"
   ]
  },
  {
   "cell_type": "markdown",
   "metadata": {},
   "source": [
    "### III. Exécution des fonctions"
   ]
  },
  {
   "cell_type": "code",
   "execution_count": 53,
   "metadata": {},
   "outputs": [
    {
     "data": {
      "application/vnd.jupyter.widget-view+json": {
       "model_id": "ca553d15150e4839859dd1a38ba8d83e",
       "version_major": 2,
       "version_minor": 0
      },
      "text/plain": [
       "SelectMultiple(description='Départements', layout=Layout(width='60%'), options=('01', '02', '03', '04', '05', …"
      ]
     },
     "metadata": {},
     "output_type": "display_data"
    },
    {
     "data": {
      "application/vnd.jupyter.widget-view+json": {
       "model_id": "347ca64a41274b05adf684fafba93912",
       "version_major": 2,
       "version_minor": 0
      },
      "text/plain": [
       "SelectMultiple(description='Types de biens', layout=Layout(width='60%'), options=('Maison', 'Dépendance (isolé…"
      ]
     },
     "metadata": {},
     "output_type": "display_data"
    },
    {
     "data": {
      "application/vnd.jupyter.widget-view+json": {
       "model_id": "0d2812e853414864847102b94fcb0fb1",
       "version_major": 2,
       "version_minor": 0
      },
      "text/plain": [
       "SelectMultiple(description='Analyse', layout=Layout(width='60%'), options=('Prix moyen par m²', 'Surface moyen…"
      ]
     },
     "metadata": {},
     "output_type": "display_data"
    },
    {
     "data": {
      "application/vnd.jupyter.widget-view+json": {
       "model_id": "8d474732fa45480e827685351b4a10c9",
       "version_major": 2,
       "version_minor": 0
      },
      "text/plain": [
       "Button(button_style='success', description='Appliquer les filtres', style=ButtonStyle())"
      ]
     },
     "metadata": {},
     "output_type": "display_data"
    }
   ],
   "source": [
    "selection_filtres_et_analyses(data)"
   ]
  }
 ],
 "metadata": {
  "kernelspec": {
   "display_name": "base",
   "language": "python",
   "name": "python3"
  },
  "language_info": {
   "codemirror_mode": {
    "name": "ipython",
    "version": 3
   },
   "file_extension": ".py",
   "mimetype": "text/x-python",
   "name": "python",
   "nbconvert_exporter": "python",
   "pygments_lexer": "ipython3",
   "version": "3.12.3"
  }
 },
 "nbformat": 4,
 "nbformat_minor": 2
}
